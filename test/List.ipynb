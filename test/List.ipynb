{
  "nbformat": 4,
  "nbformat_minor": 0,
  "metadata": {
    "colab": {
      "provenance": [],
      "authorship_tag": "ABX9TyOSNzKmjP88gitBhOZUzDSm",
      "include_colab_link": true
    },
    "kernelspec": {
      "name": "python3",
      "display_name": "Python 3"
    },
    "language_info": {
      "name": "python"
    }
  },
  "cells": [
    {
      "cell_type": "markdown",
      "metadata": {
        "id": "view-in-github",
        "colab_type": "text"
      },
      "source": [
        "<a href=\"https://colab.research.google.com/github/ss66-cloud/python-basic-kadai/blob/main/test/List.ipynb\" target=\"_parent\"><img src=\"https://colab.research.google.com/assets/colab-badge.svg\" alt=\"Open In Colab\"/></a>"
      ]
    },
    {
      "cell_type": "code",
      "execution_count": 5,
      "metadata": {
        "colab": {
          "base_uri": "https://localhost:8080/"
        },
        "id": "ecD_kP5j1wiT",
        "outputId": "4e9ee8f2-5ecf-4423-b30f-f611e4458daf"
      },
      "outputs": [
        {
          "output_type": "stream",
          "name": "stdout",
          "text": [
            "水曜日は晴れです。\n",
            "晴れ\n"
          ]
        }
      ],
      "source": [
        "s = \"晴れ\"\n",
        "c = \"曇り\"\n",
        "r = \"雨\"\n",
        "\n",
        "\n",
        "array =[f\"月曜日は{s}です。\",\n",
        "        f\"火曜日は{r}です。\",\n",
        "        f\"水曜日は{s}です。\",\n",
        "        f\"木曜日は{s}です。\",\n",
        "        f\"金曜日は{c}です。\",\n",
        "        f\"土曜日は{c}のち{r}です。\",\n",
        "        f\"日曜日は雷{r}です。\"]\n",
        "print(array[2])\n",
        "\n",
        "dictionary ={\n",
        "    \"mon\":\"晴れ\",\n",
        "    \"tue\":\"雨\",\n",
        "    \"wed\":\"晴れ\",\n",
        "    \"thr\":\"晴れ\",\n",
        "    \"fri\":\"曇り\",\n",
        "    \"sat\":\"曇りのち雨\",\n",
        "    \"sun\":\"雷雨\"}\n",
        "print(dictionary[\"wed\"])"
      ]
    },
    {
      "cell_type": "code",
      "source": [],
      "metadata": {
        "id": "ZYioqvr05gNE"
      },
      "execution_count": null,
      "outputs": []
    }
  ]
}