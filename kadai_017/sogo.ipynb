{
  "nbformat": 4,
  "nbformat_minor": 0,
  "metadata": {
    "colab": {
      "provenance": []
    },
    "kernelspec": {
      "name": "python3",
      "display_name": "Python 3"
    },
    "language_info": {
      "name": "python"
    }
  },
  "cells": [
    {
      "cell_type": "code",
      "execution_count": 26,
      "metadata": {
        "colab": {
          "base_uri": "https://localhost:8080/"
        },
        "id": "3S6wFgAAJeWC",
        "outputId": "face0272-7cb0-4ce2-d5e2-5491ea7b3c5a"
      },
      "outputs": [
        {
          "output_type": "stream",
          "name": "stdout",
          "text": [
            "adult\n",
            "child\n"
          ]
        }
      ],
      "source": [
        "class Human:\n",
        "  def __init__(self,name,age):\n",
        "    self.name = name\n",
        "    self.age = age\n",
        "\n",
        "  def show_name(self):\n",
        "    print(self.name)\n",
        "\n",
        "  def show_age(self):\n",
        "    print(self.age)\n",
        "\n",
        "  def check_adult(self):\n",
        "    if self.age >= 20:\n",
        "      print(\"adult\")\n",
        "\n",
        "    else:\n",
        "      print(\"child\")\n",
        "\n",
        "person1 = Human(\"aoi\",20)\n",
        "person2 = Human(\"akari\",18)\n",
        "people = [person1, person2]\n",
        "\n",
        "for person in people:\n",
        "  person.check_adult()\n"
      ]
    },
    {
      "cell_type": "code",
      "source": [],
      "metadata": {
        "id": "XI--CWzsNyjR"
      },
      "execution_count": null,
      "outputs": []
    }
  ]
}