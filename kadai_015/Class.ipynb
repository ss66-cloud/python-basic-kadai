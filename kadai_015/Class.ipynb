{
  "nbformat": 4,
  "nbformat_minor": 0,
  "metadata": {
    "colab": {
      "provenance": []
    },
    "kernelspec": {
      "name": "python3",
      "display_name": "Python 3"
    },
    "language_info": {
      "name": "python"
    }
  },
  "cells": [
    {
      "cell_type": "code",
      "execution_count": 10,
      "metadata": {
        "colab": {
          "base_uri": "https://localhost:8080/"
        },
        "id": "3S6wFgAAJeWC",
        "outputId": "28670705-0bb9-414a-ac56-a320fb570922"
      },
      "outputs": [
        {
          "output_type": "stream",
          "name": "stdout",
          "text": [
            "ningen\n",
            "20\n"
          ]
        }
      ],
      "source": [
        "class Human:\n",
        "  def __init__(self):\n",
        "    self.name = \"\"\n",
        "    self.age = \"\"\n",
        "\n",
        "  def show_name(self):\n",
        "    print(self.name)\n",
        "\n",
        "  def show_age(self):\n",
        "    print(self.age)\n",
        "\n",
        "\n",
        "ningen = Human()\n",
        "ningen.name = \"ningen\"\n",
        "ningen.age = 20\n",
        "ningen.show_name()\n",
        "ningen.show_age()"
      ]
    },
    {
      "cell_type": "code",
      "source": [],
      "metadata": {
        "id": "XI--CWzsNyjR"
      },
      "execution_count": null,
      "outputs": []
    }
  ]
}