{
  "cells": [
    {
      "cell_type": "markdown",
      "metadata": {
        "id": "view-in-github",
        "colab_type": "text"
      },
      "source": [
        "<a href=\"https://colab.research.google.com/github/ss66-cloud/python-basic-kadai/blob/main/kadai_007/List.ipynb\" target=\"_parent\"><img src=\"https://colab.research.google.com/assets/colab-badge.svg\" alt=\"Open In Colab\"/></a>"
      ]
    },
    {
      "cell_type": "code",
      "execution_count": null,
      "metadata": {
        "colab": {
          "base_uri": "https://localhost:8080/"
        },
        "id": "ecD_kP5j1wiT",
        "outputId": "ca4ac507-a1ac-4a30-a164-29fe9550f0af"
      },
      "outputs": [
        {
          "output_type": "stream",
          "name": "stdout",
          "text": [
            "水曜日は晴れです。\n",
            "sunny\n"
          ]
        }
      ],
      "source": [
        "s = \"晴れ\"\n",
        "c = \"曇り\"\n",
        "r = \"雨\"\n",
        "\n",
        "\n",
        "array =[f\"月曜日は{s}です。\",f\"火曜日は{r}です。\",f\"水曜日は{s}です。\",f\"木曜日は{s}です。\",f\"金曜日は{c}です。\",f\"土曜日は{c}のち{r}です。\",f\"日曜日は雷{r}です。\"]\n",
        "print(array[2])\n",
        "\n",
        "dictionary ={\"mon\":\"sunny\",\"tue\":\"rainy\",\"wed\":\"sunny\",\"thu\":\"sunny\",\"fri\":\"cloudy\",\"sat\":\"rainy after cloudy\",\"sun\":\"thunderstorm\",}\n",
        "print(dictionary[\"wed\"])"
      ]
    }
  ],
  "metadata": {
    "colab": {
      "provenance": [],
      "include_colab_link": true
    },
    "kernelspec": {
      "display_name": "Python 3",
      "name": "python3"
    },
    "language_info": {
      "name": "python"
    }
  },
  "nbformat": 4,
  "nbformat_minor": 0
}