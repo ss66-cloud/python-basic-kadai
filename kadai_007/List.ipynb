{
  "cells": [
    {
      "cell_type": "markdown",
      "metadata": {
        "colab_type": "text",
        "id": "view-in-github"
      },
      "source": [
        "<a href=\"https://colab.research.google.com/github/ss66-cloud/python-basic-kadai/blob/main/kadai_005/List.ipynb\" target=\"_parent\"><img src=\"https://colab.research.google.com/assets/colab-badge.svg\" alt=\"Open In Colab\"/></a>"
      ]
    },
    {
      "cell_type": "code",
      "execution_count": null,
      "metadata": {},
      "outputs": [],
      "source": []
    },
    {
      "cell_type": "code",
      "execution_count": null,
      "metadata": {
        "colab": {
          "base_uri": "https://localhost:8080/"
        },
        "id": "ecD_kP5j1wiT",
        "outputId": "31746172-a292-4336-fb7f-235b4fe70946"
      },
      "outputs": [
        {
          "name": "stdout",
          "output_type": "stream",
          "text": [
            "['月曜日は晴れです。火曜日は雨です。水曜日は晴れです。木曜日は晴れです。金曜日は曇りです。土曜日は曇りのち雨です。日曜日は雷雨です。']\n",
            "{'mon': '晴れ'}\n"
          ]
        }
      ],
      "source": [
        "s = \"晴れ\"\n",
        "c = \"曇り\"\n",
        "r = \"雨\"\n",
        "\n",
        "\n",
        "array =[f\"月曜日は{s}です。\",\n",
        "        f\"火曜日は{r}です。\",\n",
        "        f\"水曜日は{s}です。\",\n",
        "        f\"木曜日は{s}です。\",\n",
        "        f\"金曜日は{c}です。\",\n",
        "        f\"土曜日は{c}のち{r}です。\",\n",
        "        f\"日曜日は雷{r}です。\"]\n",
        "print(array[2])\n",
        "\n",
        "dictionary ={\"mon\":\"sunny\",\"tue\":\"rainy\",\"wed\":\"sunny\",\"thu\":\"sunny\",\"fri\":\"clody\",\"sat\":\"rainy after cloudy\",\"sun\":\"thunderstorm\",}\n",
        "print(dictionary[\"wed\"])"
      ]
    },
    {
      "cell_type": "code",
      "execution_count": null,
      "metadata": {
        "id": "ZYioqvr05gNE"
      },
      "outputs": [],
      "source": []
    }
  ],
  "metadata": {
    "colab": {
      "authorship_tag": "ABX9TyMK+AbpOjwMRjDPa0MpmAX4",
      "include_colab_link": true,
      "provenance": []
    },
    "kernelspec": {
      "display_name": "Python 3",
      "name": "python3"
    },
    "language_info": {
      "name": "python"
    }
  },
  "nbformat": 4,
  "nbformat_minor": 0
}
