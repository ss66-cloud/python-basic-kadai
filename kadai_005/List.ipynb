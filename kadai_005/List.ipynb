{
  "nbformat": 4,
  "nbformat_minor": 0,
  "metadata": {
    "colab": {
      "provenance": [],
      "authorship_tag": "ABX9TyMK+AbpOjwMRjDPa0MpmAX4",
      "include_colab_link": true
    },
    "kernelspec": {
      "name": "python3",
      "display_name": "Python 3"
    },
    "language_info": {
      "name": "python"
    }
  },
  "cells": [
    {
      "cell_type": "markdown",
      "metadata": {
        "id": "view-in-github",
        "colab_type": "text"
      },
      "source": [
        "<a href=\"https://colab.research.google.com/github/ss66-cloud/python-basic-kadai/blob/main/kadai_005/List.ipynb\" target=\"_parent\"><img src=\"https://colab.research.google.com/assets/colab-badge.svg\" alt=\"Open In Colab\"/></a>"
      ]
    },
    {
      "cell_type": "code",
      "execution_count": 11,
      "metadata": {
        "colab": {
          "base_uri": "https://localhost:8080/"
        },
        "id": "ecD_kP5j1wiT",
        "outputId": "31746172-a292-4336-fb7f-235b4fe70946"
      },
      "outputs": [
        {
          "output_type": "stream",
          "name": "stdout",
          "text": [
            "['月曜日は晴れです。火曜日は雨です。水曜日は晴れです。木曜日は晴れです。金曜日は曇りです。土曜日は曇りのち雨です。日曜日は雷雨です。']\n",
            "{'mon': '晴れ'}\n"
          ]
        }
      ],
      "source": [
        "s = \"晴れ\"\n",
        "c = \"曇り\"\n",
        "r = \"雨\"\n",
        "\n",
        "\n",
        "array =[f\"月曜日は{s}です。\"\n",
        "        f\"火曜日は{r}です。\"\n",
        "        f\"水曜日は{s}です。\"\n",
        "        f\"木曜日は{s}です。\"\n",
        "        f\"金曜日は{c}です。\"\n",
        "        f\"土曜日は{c}のち{r}です。\"\n",
        "        f\"日曜日は雷{r}です。\"]\n",
        "print(array)\n",
        "\n",
        "dictionary ={\"mon\":\"晴れ\"}\n",
        "print(dictionary)"
      ]
    },
    {
      "cell_type": "code",
      "source": [],
      "metadata": {
        "id": "ZYioqvr05gNE"
      },
      "execution_count": null,
      "outputs": []
    }
  ]
}